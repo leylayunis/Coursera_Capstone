{
 "cells": [
  {
   "cell_type": "markdown",
   "metadata": {},
   "source": [
    "## Coursera Capstone"
   ]
  },
  {
   "cell_type": "markdown",
   "metadata": {},
   "source": [
    "This notebook will be used for the IBM Data Science Capstone Project."
   ]
  },
  {
   "cell_type": "code",
   "execution_count": 1,
   "metadata": {},
   "outputs": [],
   "source": [
    "import matplotlib.pyplot as plt\n",
    "import pandas as pd\n",
    "import numpy as np"
   ]
  },
  {
   "cell_type": "code",
   "execution_count": 2,
   "metadata": {},
   "outputs": [
    {
     "output_type": "stream",
     "name": "stdout",
     "text": "Hello Capstone Project Course!\n"
    }
   ],
   "source": [
    "print('Hello Capstone Project Course!')"
   ]
  },
  {
   "cell_type": "code",
   "execution_count": 3,
   "metadata": {},
   "outputs": [
    {
     "output_type": "stream",
     "name": "stdout",
     "text": "(221144, 40)\n"
    },
    {
     "output_type": "execute_result",
     "data": {
      "text/plain": "            X          Y  OBJECTID  INCKEY  COLDETKEY  REPORTNO     STATUS  \\\n0 -122.288688  47.532714         1   29800      29800   1177964  Unmatched   \n1         NaN        NaN         2  115700     115700  10097005  Unmatched   \n2 -122.355556  47.727318         3    1358       1358   3568600    Matched   \n3 -122.317563  47.618764         4   70700      70700   2806057    Matched   \n4 -122.361015  47.538551         5   53600      53600   2127310    Matched   \n\n  ADDRTYPE  INTKEY                                           LOCATION  ...  \\\n0    Block     NaN  BEACON ER AVE S BETWEEN S PORTLAND ST AND S CH...  ...   \n1      NaN     NaN                                                NaN  ...   \n2    Block     NaN  GREENWOOD AVE N BETWEEN N 134TH ST AND N 136TH ST  ...   \n3    Block     NaN          E DENNY WAY BETWEEN 11TH AVE AND 12TH AVE  ...   \n4    Block     NaN  DELRIDGE WAY SW BETWEEN SW MYRTLE ST AND SW OR...  ...   \n\n  ROADCOND LIGHTCOND PEDROWNOTGRNT  SDOTCOLNUM SPEEDING  ST_COLCODE  \\\n0      NaN       NaN           NaN   4315006.0      NaN         NaN   \n1      NaN       NaN           NaN  10097005.0      NaN         NaN   \n2      Dry  Daylight           NaN         NaN      NaN          28   \n3      Dry     Other           NaN   7065007.0      NaN          32   \n4      Dry  Daylight           NaN   6137017.0      NaN          14   \n\n                                          ST_COLDESC  SEGLANEKEY  \\\n0                                                NaN           0   \n1                                                NaN           0   \n2  From opposite direction - one left turn - one ...           0   \n3                             One parked--one moving           0   \n4  From same direction - both going straight - on...           0   \n\n   CROSSWALKKEY  HITPARKEDCAR  \n0             0             N  \n1             0             N  \n2             0             N  \n3             0             N  \n4             0             N  \n\n[5 rows x 40 columns]",
      "text/html": "<div>\n<style scoped>\n    .dataframe tbody tr th:only-of-type {\n        vertical-align: middle;\n    }\n\n    .dataframe tbody tr th {\n        vertical-align: top;\n    }\n\n    .dataframe thead th {\n        text-align: right;\n    }\n</style>\n<table border=\"1\" class=\"dataframe\">\n  <thead>\n    <tr style=\"text-align: right;\">\n      <th></th>\n      <th>X</th>\n      <th>Y</th>\n      <th>OBJECTID</th>\n      <th>INCKEY</th>\n      <th>COLDETKEY</th>\n      <th>REPORTNO</th>\n      <th>STATUS</th>\n      <th>ADDRTYPE</th>\n      <th>INTKEY</th>\n      <th>LOCATION</th>\n      <th>...</th>\n      <th>ROADCOND</th>\n      <th>LIGHTCOND</th>\n      <th>PEDROWNOTGRNT</th>\n      <th>SDOTCOLNUM</th>\n      <th>SPEEDING</th>\n      <th>ST_COLCODE</th>\n      <th>ST_COLDESC</th>\n      <th>SEGLANEKEY</th>\n      <th>CROSSWALKKEY</th>\n      <th>HITPARKEDCAR</th>\n    </tr>\n  </thead>\n  <tbody>\n    <tr>\n      <th>0</th>\n      <td>-122.288688</td>\n      <td>47.532714</td>\n      <td>1</td>\n      <td>29800</td>\n      <td>29800</td>\n      <td>1177964</td>\n      <td>Unmatched</td>\n      <td>Block</td>\n      <td>NaN</td>\n      <td>BEACON ER AVE S BETWEEN S PORTLAND ST AND S CH...</td>\n      <td>...</td>\n      <td>NaN</td>\n      <td>NaN</td>\n      <td>NaN</td>\n      <td>4315006.0</td>\n      <td>NaN</td>\n      <td>NaN</td>\n      <td>NaN</td>\n      <td>0</td>\n      <td>0</td>\n      <td>N</td>\n    </tr>\n    <tr>\n      <th>1</th>\n      <td>NaN</td>\n      <td>NaN</td>\n      <td>2</td>\n      <td>115700</td>\n      <td>115700</td>\n      <td>10097005</td>\n      <td>Unmatched</td>\n      <td>NaN</td>\n      <td>NaN</td>\n      <td>NaN</td>\n      <td>...</td>\n      <td>NaN</td>\n      <td>NaN</td>\n      <td>NaN</td>\n      <td>10097005.0</td>\n      <td>NaN</td>\n      <td>NaN</td>\n      <td>NaN</td>\n      <td>0</td>\n      <td>0</td>\n      <td>N</td>\n    </tr>\n    <tr>\n      <th>2</th>\n      <td>-122.355556</td>\n      <td>47.727318</td>\n      <td>3</td>\n      <td>1358</td>\n      <td>1358</td>\n      <td>3568600</td>\n      <td>Matched</td>\n      <td>Block</td>\n      <td>NaN</td>\n      <td>GREENWOOD AVE N BETWEEN N 134TH ST AND N 136TH ST</td>\n      <td>...</td>\n      <td>Dry</td>\n      <td>Daylight</td>\n      <td>NaN</td>\n      <td>NaN</td>\n      <td>NaN</td>\n      <td>28</td>\n      <td>From opposite direction - one left turn - one ...</td>\n      <td>0</td>\n      <td>0</td>\n      <td>N</td>\n    </tr>\n    <tr>\n      <th>3</th>\n      <td>-122.317563</td>\n      <td>47.618764</td>\n      <td>4</td>\n      <td>70700</td>\n      <td>70700</td>\n      <td>2806057</td>\n      <td>Matched</td>\n      <td>Block</td>\n      <td>NaN</td>\n      <td>E DENNY WAY BETWEEN 11TH AVE AND 12TH AVE</td>\n      <td>...</td>\n      <td>Dry</td>\n      <td>Other</td>\n      <td>NaN</td>\n      <td>7065007.0</td>\n      <td>NaN</td>\n      <td>32</td>\n      <td>One parked--one moving</td>\n      <td>0</td>\n      <td>0</td>\n      <td>N</td>\n    </tr>\n    <tr>\n      <th>4</th>\n      <td>-122.361015</td>\n      <td>47.538551</td>\n      <td>5</td>\n      <td>53600</td>\n      <td>53600</td>\n      <td>2127310</td>\n      <td>Matched</td>\n      <td>Block</td>\n      <td>NaN</td>\n      <td>DELRIDGE WAY SW BETWEEN SW MYRTLE ST AND SW OR...</td>\n      <td>...</td>\n      <td>Dry</td>\n      <td>Daylight</td>\n      <td>NaN</td>\n      <td>6137017.0</td>\n      <td>NaN</td>\n      <td>14</td>\n      <td>From same direction - both going straight - on...</td>\n      <td>0</td>\n      <td>0</td>\n      <td>N</td>\n    </tr>\n  </tbody>\n</table>\n<p>5 rows × 40 columns</p>\n</div>"
     },
     "metadata": {},
     "execution_count": 3
    }
   ],
   "source": [
    "df = pd.read_csv('Collisions.csv')\n",
    "print(df.shape)\n",
    "df.head()"
   ]
  },
  {
   "cell_type": "markdown",
   "metadata": {},
   "source": [
    "Data has 40 columns and 221144 rows."
   ]
  },
  {
   "cell_type": "code",
   "execution_count": 4,
   "metadata": {},
   "outputs": [
    {
     "output_type": "execute_result",
     "data": {
      "text/plain": "X                  float64\nY                  float64\nOBJECTID             int64\nINCKEY               int64\nCOLDETKEY            int64\nREPORTNO            object\nSTATUS              object\nADDRTYPE            object\nINTKEY             float64\nLOCATION            object\nEXCEPTRSNCODE       object\nEXCEPTRSNDESC       object\nSEVERITYCODE        object\nSEVERITYDESC        object\nCOLLISIONTYPE       object\nPERSONCOUNT          int64\nPEDCOUNT             int64\nPEDCYLCOUNT          int64\nVEHCOUNT             int64\nINJURIES             int64\nSERIOUSINJURIES      int64\nFATALITIES           int64\nINCDATE             object\nINCDTTM             object\nJUNCTIONTYPE        object\nSDOT_COLCODE       float64\nSDOT_COLDESC        object\nINATTENTIONIND      object\nUNDERINFL           object\nWEATHER             object\nROADCOND            object\nLIGHTCOND           object\nPEDROWNOTGRNT       object\nSDOTCOLNUM         float64\nSPEEDING            object\nST_COLCODE          object\nST_COLDESC          object\nSEGLANEKEY           int64\nCROSSWALKKEY         int64\nHITPARKEDCAR        object\ndtype: object"
     },
     "metadata": {},
     "execution_count": 4
    }
   ],
   "source": [
    "df.dtypes"
   ]
  },
  {
   "cell_type": "code",
   "execution_count": 5,
   "metadata": {},
   "outputs": [
    {
     "output_type": "execute_result",
     "data": {
      "text/plain": "                   X              Y       OBJECTID         INCKEY  \\\ncount  213675.000000  213675.000000  221144.000000  221144.000000   \nmean     -122.330748      47.620206  110572.500000  144499.335261   \nstd         0.030051       0.056033   63838.918302   88953.719744   \nmin      -122.419091      47.495573       1.000000    1001.000000   \n25%      -122.349280      47.577309   55286.750000   71572.750000   \n50%      -122.330348      47.616053  110572.500000  127061.500000   \n75%      -122.311998      47.664282  165858.250000  209528.250000   \nmax      -122.238949      47.734142  221144.000000  333528.000000   \n\n           COLDETKEY         INTKEY    PERSONCOUNT       PEDCOUNT  \\\ncount  221144.000000   71774.000000  221144.000000  221144.000000   \nmean   144726.158928   37617.166258       2.226459       0.038115   \nstd     89326.449360   51918.292696       1.470580       0.201756   \nmin      1001.000000   23807.000000       0.000000       0.000000   \n25%     71572.750000   28653.000000       2.000000       0.000000   \n50%    127061.500000   29973.000000       2.000000       0.000000   \n75%    209748.250000   33983.750000       3.000000       0.000000   \nmax    335028.000000  757580.000000      93.000000       6.000000   \n\n         PEDCYLCOUNT       VEHCOUNT       INJURIES  SERIOUSINJURIES  \\\ncount  221144.000000  221144.000000  221144.000000    221144.000000   \nmean        0.027299       1.729271       0.373842         0.015158   \nstd         0.164363       0.830665       0.732113         0.157951   \nmin         0.000000       0.000000       0.000000         0.000000   \n25%         0.000000       2.000000       0.000000         0.000000   \n50%         0.000000       2.000000       0.000000         0.000000   \n75%         0.000000       2.000000       1.000000         0.000000   \nmax         2.000000      15.000000      78.000000        41.000000   \n\n          FATALITIES   SDOT_COLCODE    SDOTCOLNUM     SEGLANEKEY  CROSSWALKKEY  \ncount  221144.000000  221143.000000  1.272050e+05  221144.000000  2.211440e+05  \nmean        0.001682      13.383670  7.971063e+06     261.585804  9.591375e+03  \nstd         0.044574       7.303437  2.611523e+06    3249.740639  7.151363e+04  \nmin         0.000000       0.000000  1.007024e+06       0.000000  0.000000e+00  \n25%         0.000000      11.000000  6.007029e+06       0.000000  0.000000e+00  \n50%         0.000000      11.000000  8.033011e+06       0.000000  0.000000e+00  \n75%         0.000000      14.000000  1.018101e+07       0.000000  0.000000e+00  \nmax         5.000000      87.000000  1.307202e+07  525241.000000  5.239700e+06  ",
      "text/html": "<div>\n<style scoped>\n    .dataframe tbody tr th:only-of-type {\n        vertical-align: middle;\n    }\n\n    .dataframe tbody tr th {\n        vertical-align: top;\n    }\n\n    .dataframe thead th {\n        text-align: right;\n    }\n</style>\n<table border=\"1\" class=\"dataframe\">\n  <thead>\n    <tr style=\"text-align: right;\">\n      <th></th>\n      <th>X</th>\n      <th>Y</th>\n      <th>OBJECTID</th>\n      <th>INCKEY</th>\n      <th>COLDETKEY</th>\n      <th>INTKEY</th>\n      <th>PERSONCOUNT</th>\n      <th>PEDCOUNT</th>\n      <th>PEDCYLCOUNT</th>\n      <th>VEHCOUNT</th>\n      <th>INJURIES</th>\n      <th>SERIOUSINJURIES</th>\n      <th>FATALITIES</th>\n      <th>SDOT_COLCODE</th>\n      <th>SDOTCOLNUM</th>\n      <th>SEGLANEKEY</th>\n      <th>CROSSWALKKEY</th>\n    </tr>\n  </thead>\n  <tbody>\n    <tr>\n      <th>count</th>\n      <td>213675.000000</td>\n      <td>213675.000000</td>\n      <td>221144.000000</td>\n      <td>221144.000000</td>\n      <td>221144.000000</td>\n      <td>71774.000000</td>\n      <td>221144.000000</td>\n      <td>221144.000000</td>\n      <td>221144.000000</td>\n      <td>221144.000000</td>\n      <td>221144.000000</td>\n      <td>221144.000000</td>\n      <td>221144.000000</td>\n      <td>221143.000000</td>\n      <td>1.272050e+05</td>\n      <td>221144.000000</td>\n      <td>2.211440e+05</td>\n    </tr>\n    <tr>\n      <th>mean</th>\n      <td>-122.330748</td>\n      <td>47.620206</td>\n      <td>110572.500000</td>\n      <td>144499.335261</td>\n      <td>144726.158928</td>\n      <td>37617.166258</td>\n      <td>2.226459</td>\n      <td>0.038115</td>\n      <td>0.027299</td>\n      <td>1.729271</td>\n      <td>0.373842</td>\n      <td>0.015158</td>\n      <td>0.001682</td>\n      <td>13.383670</td>\n      <td>7.971063e+06</td>\n      <td>261.585804</td>\n      <td>9.591375e+03</td>\n    </tr>\n    <tr>\n      <th>std</th>\n      <td>0.030051</td>\n      <td>0.056033</td>\n      <td>63838.918302</td>\n      <td>88953.719744</td>\n      <td>89326.449360</td>\n      <td>51918.292696</td>\n      <td>1.470580</td>\n      <td>0.201756</td>\n      <td>0.164363</td>\n      <td>0.830665</td>\n      <td>0.732113</td>\n      <td>0.157951</td>\n      <td>0.044574</td>\n      <td>7.303437</td>\n      <td>2.611523e+06</td>\n      <td>3249.740639</td>\n      <td>7.151363e+04</td>\n    </tr>\n    <tr>\n      <th>min</th>\n      <td>-122.419091</td>\n      <td>47.495573</td>\n      <td>1.000000</td>\n      <td>1001.000000</td>\n      <td>1001.000000</td>\n      <td>23807.000000</td>\n      <td>0.000000</td>\n      <td>0.000000</td>\n      <td>0.000000</td>\n      <td>0.000000</td>\n      <td>0.000000</td>\n      <td>0.000000</td>\n      <td>0.000000</td>\n      <td>0.000000</td>\n      <td>1.007024e+06</td>\n      <td>0.000000</td>\n      <td>0.000000e+00</td>\n    </tr>\n    <tr>\n      <th>25%</th>\n      <td>-122.349280</td>\n      <td>47.577309</td>\n      <td>55286.750000</td>\n      <td>71572.750000</td>\n      <td>71572.750000</td>\n      <td>28653.000000</td>\n      <td>2.000000</td>\n      <td>0.000000</td>\n      <td>0.000000</td>\n      <td>2.000000</td>\n      <td>0.000000</td>\n      <td>0.000000</td>\n      <td>0.000000</td>\n      <td>11.000000</td>\n      <td>6.007029e+06</td>\n      <td>0.000000</td>\n      <td>0.000000e+00</td>\n    </tr>\n    <tr>\n      <th>50%</th>\n      <td>-122.330348</td>\n      <td>47.616053</td>\n      <td>110572.500000</td>\n      <td>127061.500000</td>\n      <td>127061.500000</td>\n      <td>29973.000000</td>\n      <td>2.000000</td>\n      <td>0.000000</td>\n      <td>0.000000</td>\n      <td>2.000000</td>\n      <td>0.000000</td>\n      <td>0.000000</td>\n      <td>0.000000</td>\n      <td>11.000000</td>\n      <td>8.033011e+06</td>\n      <td>0.000000</td>\n      <td>0.000000e+00</td>\n    </tr>\n    <tr>\n      <th>75%</th>\n      <td>-122.311998</td>\n      <td>47.664282</td>\n      <td>165858.250000</td>\n      <td>209528.250000</td>\n      <td>209748.250000</td>\n      <td>33983.750000</td>\n      <td>3.000000</td>\n      <td>0.000000</td>\n      <td>0.000000</td>\n      <td>2.000000</td>\n      <td>1.000000</td>\n      <td>0.000000</td>\n      <td>0.000000</td>\n      <td>14.000000</td>\n      <td>1.018101e+07</td>\n      <td>0.000000</td>\n      <td>0.000000e+00</td>\n    </tr>\n    <tr>\n      <th>max</th>\n      <td>-122.238949</td>\n      <td>47.734142</td>\n      <td>221144.000000</td>\n      <td>333528.000000</td>\n      <td>335028.000000</td>\n      <td>757580.000000</td>\n      <td>93.000000</td>\n      <td>6.000000</td>\n      <td>2.000000</td>\n      <td>15.000000</td>\n      <td>78.000000</td>\n      <td>41.000000</td>\n      <td>5.000000</td>\n      <td>87.000000</td>\n      <td>1.307202e+07</td>\n      <td>525241.000000</td>\n      <td>5.239700e+06</td>\n    </tr>\n  </tbody>\n</table>\n</div>"
     },
     "metadata": {},
     "execution_count": 5
    }
   ],
   "source": [
    "df.describe()"
   ]
  },
  {
   "cell_type": "code",
   "execution_count": 6,
   "metadata": {},
   "outputs": [
    {
     "output_type": "execute_result",
     "data": {
      "text/plain": "X                   True\nY                   True\nOBJECTID           False\nINCKEY             False\nCOLDETKEY          False\nREPORTNO           False\nSTATUS             False\nADDRTYPE            True\nINTKEY              True\nLOCATION            True\nEXCEPTRSNCODE       True\nEXCEPTRSNDESC       True\nSEVERITYCODE        True\nSEVERITYDESC       False\nCOLLISIONTYPE       True\nPERSONCOUNT        False\nPEDCOUNT           False\nPEDCYLCOUNT        False\nVEHCOUNT           False\nINJURIES           False\nSERIOUSINJURIES    False\nFATALITIES         False\nINCDATE            False\nINCDTTM            False\nJUNCTIONTYPE        True\nSDOT_COLCODE        True\nSDOT_COLDESC        True\nINATTENTIONIND      True\nUNDERINFL           True\nWEATHER             True\nROADCOND            True\nLIGHTCOND           True\nPEDROWNOTGRNT       True\nSDOTCOLNUM          True\nSPEEDING            True\nST_COLCODE          True\nST_COLDESC          True\nSEGLANEKEY         False\nCROSSWALKKEY       False\nHITPARKEDCAR       False\ndtype: bool"
     },
     "metadata": {},
     "execution_count": 6
    }
   ],
   "source": [
    "# See which columns (if any) has null values\n",
    "df.isna().any()"
   ]
  },
  {
   "cell_type": "code",
   "execution_count": 7,
   "metadata": {},
   "outputs": [
    {
     "output_type": "execute_result",
     "data": {
      "text/plain": "                     column_name  percent_missing\nPEDROWNOTGRNT      PEDROWNOTGRNT        97.654017\nSPEEDING                SPEEDING        95.517853\nEXCEPTRSNDESC      EXCEPTRSNDESC        94.677224\nINATTENTIONIND    INATTENTIONIND        86.349166\nINTKEY                    INTKEY        67.544225\nEXCEPTRSNCODE      EXCEPTRSNCODE        54.445520\nSDOTCOLNUM            SDOTCOLNUM        42.478656\nLIGHTCOND              LIGHTCOND        12.064989\nWEATHER                  WEATHER        12.025196\nROADCOND                ROADCOND        11.989021\nST_COLDESC            ST_COLDESC        11.939732\nCOLLISIONTYPE      COLLISIONTYPE        11.939732\nUNDERINFL              UNDERINFL        11.930688\nJUNCTIONTYPE        JUNCTIONTYPE         5.409145\nST_COLCODE            ST_COLCODE         4.256503\nY                              Y         3.377437\nX                              X         3.377437\nLOCATION                LOCATION         2.073762\nADDRTYPE                ADDRTYPE         1.678544\nSDOT_COLDESC        SDOT_COLDESC         0.000452\nSEVERITYCODE        SEVERITYCODE         0.000452\nSDOT_COLCODE        SDOT_COLCODE         0.000452\nSEGLANEKEY            SEGLANEKEY         0.000000\nCROSSWALKKEY        CROSSWALKKEY         0.000000\nSERIOUSINJURIES  SERIOUSINJURIES         0.000000\nINCDTTM                  INCDTTM         0.000000\nINCDATE                  INCDATE         0.000000\nFATALITIES            FATALITIES         0.000000\nINJURIES                INJURIES         0.000000\nVEHCOUNT                VEHCOUNT         0.000000\nPEDCYLCOUNT          PEDCYLCOUNT         0.000000\nPEDCOUNT                PEDCOUNT         0.000000\nPERSONCOUNT          PERSONCOUNT         0.000000\nSEVERITYDESC        SEVERITYDESC         0.000000\nSTATUS                    STATUS         0.000000\nREPORTNO                REPORTNO         0.000000\nCOLDETKEY              COLDETKEY         0.000000\nINCKEY                    INCKEY         0.000000\nOBJECTID                OBJECTID         0.000000\nHITPARKEDCAR        HITPARKEDCAR         0.000000",
      "text/html": "<div>\n<style scoped>\n    .dataframe tbody tr th:only-of-type {\n        vertical-align: middle;\n    }\n\n    .dataframe tbody tr th {\n        vertical-align: top;\n    }\n\n    .dataframe thead th {\n        text-align: right;\n    }\n</style>\n<table border=\"1\" class=\"dataframe\">\n  <thead>\n    <tr style=\"text-align: right;\">\n      <th></th>\n      <th>column_name</th>\n      <th>percent_missing</th>\n    </tr>\n  </thead>\n  <tbody>\n    <tr>\n      <th>PEDROWNOTGRNT</th>\n      <td>PEDROWNOTGRNT</td>\n      <td>97.654017</td>\n    </tr>\n    <tr>\n      <th>SPEEDING</th>\n      <td>SPEEDING</td>\n      <td>95.517853</td>\n    </tr>\n    <tr>\n      <th>EXCEPTRSNDESC</th>\n      <td>EXCEPTRSNDESC</td>\n      <td>94.677224</td>\n    </tr>\n    <tr>\n      <th>INATTENTIONIND</th>\n      <td>INATTENTIONIND</td>\n      <td>86.349166</td>\n    </tr>\n    <tr>\n      <th>INTKEY</th>\n      <td>INTKEY</td>\n      <td>67.544225</td>\n    </tr>\n    <tr>\n      <th>EXCEPTRSNCODE</th>\n      <td>EXCEPTRSNCODE</td>\n      <td>54.445520</td>\n    </tr>\n    <tr>\n      <th>SDOTCOLNUM</th>\n      <td>SDOTCOLNUM</td>\n      <td>42.478656</td>\n    </tr>\n    <tr>\n      <th>LIGHTCOND</th>\n      <td>LIGHTCOND</td>\n      <td>12.064989</td>\n    </tr>\n    <tr>\n      <th>WEATHER</th>\n      <td>WEATHER</td>\n      <td>12.025196</td>\n    </tr>\n    <tr>\n      <th>ROADCOND</th>\n      <td>ROADCOND</td>\n      <td>11.989021</td>\n    </tr>\n    <tr>\n      <th>ST_COLDESC</th>\n      <td>ST_COLDESC</td>\n      <td>11.939732</td>\n    </tr>\n    <tr>\n      <th>COLLISIONTYPE</th>\n      <td>COLLISIONTYPE</td>\n      <td>11.939732</td>\n    </tr>\n    <tr>\n      <th>UNDERINFL</th>\n      <td>UNDERINFL</td>\n      <td>11.930688</td>\n    </tr>\n    <tr>\n      <th>JUNCTIONTYPE</th>\n      <td>JUNCTIONTYPE</td>\n      <td>5.409145</td>\n    </tr>\n    <tr>\n      <th>ST_COLCODE</th>\n      <td>ST_COLCODE</td>\n      <td>4.256503</td>\n    </tr>\n    <tr>\n      <th>Y</th>\n      <td>Y</td>\n      <td>3.377437</td>\n    </tr>\n    <tr>\n      <th>X</th>\n      <td>X</td>\n      <td>3.377437</td>\n    </tr>\n    <tr>\n      <th>LOCATION</th>\n      <td>LOCATION</td>\n      <td>2.073762</td>\n    </tr>\n    <tr>\n      <th>ADDRTYPE</th>\n      <td>ADDRTYPE</td>\n      <td>1.678544</td>\n    </tr>\n    <tr>\n      <th>SDOT_COLDESC</th>\n      <td>SDOT_COLDESC</td>\n      <td>0.000452</td>\n    </tr>\n    <tr>\n      <th>SEVERITYCODE</th>\n      <td>SEVERITYCODE</td>\n      <td>0.000452</td>\n    </tr>\n    <tr>\n      <th>SDOT_COLCODE</th>\n      <td>SDOT_COLCODE</td>\n      <td>0.000452</td>\n    </tr>\n    <tr>\n      <th>SEGLANEKEY</th>\n      <td>SEGLANEKEY</td>\n      <td>0.000000</td>\n    </tr>\n    <tr>\n      <th>CROSSWALKKEY</th>\n      <td>CROSSWALKKEY</td>\n      <td>0.000000</td>\n    </tr>\n    <tr>\n      <th>SERIOUSINJURIES</th>\n      <td>SERIOUSINJURIES</td>\n      <td>0.000000</td>\n    </tr>\n    <tr>\n      <th>INCDTTM</th>\n      <td>INCDTTM</td>\n      <td>0.000000</td>\n    </tr>\n    <tr>\n      <th>INCDATE</th>\n      <td>INCDATE</td>\n      <td>0.000000</td>\n    </tr>\n    <tr>\n      <th>FATALITIES</th>\n      <td>FATALITIES</td>\n      <td>0.000000</td>\n    </tr>\n    <tr>\n      <th>INJURIES</th>\n      <td>INJURIES</td>\n      <td>0.000000</td>\n    </tr>\n    <tr>\n      <th>VEHCOUNT</th>\n      <td>VEHCOUNT</td>\n      <td>0.000000</td>\n    </tr>\n    <tr>\n      <th>PEDCYLCOUNT</th>\n      <td>PEDCYLCOUNT</td>\n      <td>0.000000</td>\n    </tr>\n    <tr>\n      <th>PEDCOUNT</th>\n      <td>PEDCOUNT</td>\n      <td>0.000000</td>\n    </tr>\n    <tr>\n      <th>PERSONCOUNT</th>\n      <td>PERSONCOUNT</td>\n      <td>0.000000</td>\n    </tr>\n    <tr>\n      <th>SEVERITYDESC</th>\n      <td>SEVERITYDESC</td>\n      <td>0.000000</td>\n    </tr>\n    <tr>\n      <th>STATUS</th>\n      <td>STATUS</td>\n      <td>0.000000</td>\n    </tr>\n    <tr>\n      <th>REPORTNO</th>\n      <td>REPORTNO</td>\n      <td>0.000000</td>\n    </tr>\n    <tr>\n      <th>COLDETKEY</th>\n      <td>COLDETKEY</td>\n      <td>0.000000</td>\n    </tr>\n    <tr>\n      <th>INCKEY</th>\n      <td>INCKEY</td>\n      <td>0.000000</td>\n    </tr>\n    <tr>\n      <th>OBJECTID</th>\n      <td>OBJECTID</td>\n      <td>0.000000</td>\n    </tr>\n    <tr>\n      <th>HITPARKEDCAR</th>\n      <td>HITPARKEDCAR</td>\n      <td>0.000000</td>\n    </tr>\n  </tbody>\n</table>\n</div>"
     },
     "metadata": {},
     "execution_count": 7
    }
   ],
   "source": [
    "percent_missing = df.isnull().sum() * 100 / len(df)\n",
    "missing_value_df = pd.DataFrame({'column_name': df.columns, 'percent_missing': percent_missing})\n",
    "missing_value_df.sort_values('percent_missing', ascending=False, inplace=True)\n",
    "missing_value_df"
   ]
  },
  {
   "cell_type": "code",
   "execution_count": 24,
   "metadata": {},
   "outputs": [
    {
     "output_type": "execute_result",
     "data": {
      "text/plain": "count    221144.000000\nmean          2.200245\nstd           0.627028\nmin           0.000000\n25%           2.000000\n50%           2.000000\n75%           3.000000\nmax           5.000000\nName: SEVERITYCODE, dtype: float64"
     },
     "metadata": {},
     "execution_count": 24
    }
   ],
   "source": [
    "df['SEVERITYCODE'] = df['SEVERITYCODE'].astype('category')\n",
    "df['SEVERITYCODE'] = df['SEVERITYCODE'].cat.codes\n",
    "df['SEVERITYCODE'].describe()"
   ]
  }
 ],
 "metadata": {
  "language_info": {
   "codemirror_mode": {
    "name": "ipython",
    "version": 3
   },
   "file_extension": ".py",
   "mimetype": "text/x-python",
   "name": "python",
   "nbconvert_exporter": "python",
   "pygments_lexer": "ipython3",
   "version": 3
  },
  "orig_nbformat": 2,
  "kernelspec": {
   "name": "python_defaultSpec_1599248890662",
   "display_name": "Python 3.8.5 64-bit"
  }
 },
 "nbformat": 4,
 "nbformat_minor": 2
}